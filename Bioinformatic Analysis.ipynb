{
 "cells": [
  {
   "cell_type": "markdown",
   "metadata": {},
   "source": [
    "# Finding the Cross Reactivity of Antibodies"
   ]
  },
  {
   "cell_type": "markdown",
   "metadata": {},
   "source": [
    "Antibodies interact with their protein target in certain regions (or sequences) called epitopes. The antibody cross reactivity can be defined as: the ability of an antibody to interact with the same protein in different species. To predict the cross reactivity, the epitope sequence can be compared “aligned” against the sequences of the corresponding proteins in other species. The alignment results (sequence similarity and identity), can be used to indicate the likelihood of cross reactivity. Usually, the higher the sequence similarity, the more likely that antibody will bind."
   ]
  },
  {
   "cell_type": "markdown",
   "metadata": {},
   "source": [
    "## Problem \n",
    "Predict the cross reactivity of the given antibodies (<span style=\"color:DarkGoldenRod\">Epitope_table.csv</span>) that are known to target the given proteins (<span style=\"color:DarkGoldenRod\">Epitope_mapping.csv</span>) "
   ]
  },
  {
   "cell_type": "code",
   "execution_count": 1,
   "metadata": {},
   "outputs": [],
   "source": [
    "import os\n",
    "import pandas as pd\n",
    "from Bio import SeqIO\n",
    "from Bio import pairwise2\n",
    "import matplotlib.pyplot as plt\n",
    "import matplotlib.patches as mpatches"
   ]
  },
  {
   "cell_type": "markdown",
   "metadata": {},
   "source": [
    "Let's look at the antibodies file:"
   ]
  },
  {
   "cell_type": "code",
   "execution_count": 2,
   "metadata": {},
   "outputs": [
    {
     "data": {
      "text/html": [
       "<div>\n",
       "<style scoped>\n",
       "    .dataframe tbody tr th:only-of-type {\n",
       "        vertical-align: middle;\n",
       "    }\n",
       "\n",
       "    .dataframe tbody tr th {\n",
       "        vertical-align: top;\n",
       "    }\n",
       "\n",
       "    .dataframe thead th {\n",
       "        text-align: right;\n",
       "    }\n",
       "</style>\n",
       "<table border=\"1\" class=\"dataframe\">\n",
       "  <thead>\n",
       "    <tr style=\"text-align: right;\">\n",
       "      <th></th>\n",
       "      <th>Vendor</th>\n",
       "      <th>SKU</th>\n",
       "      <th>epitope</th>\n",
       "      <th>specificity</th>\n",
       "      <th>Immunogen</th>\n",
       "      <th>start</th>\n",
       "      <th>stop</th>\n",
       "    </tr>\n",
       "  </thead>\n",
       "  <tbody>\n",
       "    <tr>\n",
       "      <td>0</td>\n",
       "      <td>Abcam</td>\n",
       "      <td>AB108050</td>\n",
       "      <td>Synthetic peptide corresponding to a region wi...</td>\n",
       "      <td>N Terminus</td>\n",
       "      <td>KCSHVACGRYIEDHALKHFEETGHPLAMEV</td>\n",
       "      <td>40.0</td>\n",
       "      <td>69.0</td>\n",
       "    </tr>\n",
       "    <tr>\n",
       "      <td>1</td>\n",
       "      <td>Abcam</td>\n",
       "      <td>AB68554</td>\n",
       "      <td>Synthetic peptide corresponding to Mouse GABA ...</td>\n",
       "      <td>C Terminus</td>\n",
       "      <td>VTMILSSQQDAAFAFASLAIVFS</td>\n",
       "      <td>822.0</td>\n",
       "      <td>844.0</td>\n",
       "    </tr>\n",
       "    <tr>\n",
       "      <td>2</td>\n",
       "      <td>Abcam</td>\n",
       "      <td>AB135356</td>\n",
       "      <td>Synthetic peptide corresponding to N terminal ...</td>\n",
       "      <td>N Terminus</td>\n",
       "      <td>LRVMNSQEQD</td>\n",
       "      <td>225.0</td>\n",
       "      <td>274.0</td>\n",
       "    </tr>\n",
       "  </tbody>\n",
       "</table>\n",
       "</div>"
      ],
      "text/plain": [
       "  Vendor       SKU                                            epitope  \\\n",
       "0  Abcam  AB108050  Synthetic peptide corresponding to a region wi...   \n",
       "1  Abcam   AB68554  Synthetic peptide corresponding to Mouse GABA ...   \n",
       "2  Abcam  AB135356  Synthetic peptide corresponding to N terminal ...   \n",
       "\n",
       "  specificity                       Immunogen  start   stop  \n",
       "0  N Terminus  KCSHVACGRYIEDHALKHFEETGHPLAMEV   40.0   69.0  \n",
       "1  C Terminus         VTMILSSQQDAAFAFASLAIVFS  822.0  844.0  \n",
       "2  N Terminus                      LRVMNSQEQD  225.0  274.0  "
      ]
     },
     "execution_count": 2,
     "metadata": {},
     "output_type": "execute_result"
    }
   ],
   "source": [
    "path = os.getcwd()+'/epitopes/'\n",
    "anti_df = pd.read_csv(path+\"Epitopes_table.csv\", sep=\"\\t\")\n",
    "anti_df.head(3)"
   ]
  },
  {
   "cell_type": "code",
   "execution_count": 3,
   "metadata": {},
   "outputs": [
    {
     "data": {
      "text/plain": [
       "100"
      ]
     },
     "execution_count": 3,
     "metadata": {},
     "output_type": "execute_result"
    }
   ],
   "source": [
    "anti_df.shape[0]"
   ]
  },
  {
   "cell_type": "markdown",
   "metadata": {},
   "source": [
    "And the mapping file:"
   ]
  },
  {
   "cell_type": "code",
   "execution_count": 4,
   "metadata": {},
   "outputs": [
    {
     "data": {
      "text/html": [
       "<div>\n",
       "<style scoped>\n",
       "    .dataframe tbody tr th:only-of-type {\n",
       "        vertical-align: middle;\n",
       "    }\n",
       "\n",
       "    .dataframe tbody tr th {\n",
       "        vertical-align: top;\n",
       "    }\n",
       "\n",
       "    .dataframe thead th {\n",
       "        text-align: right;\n",
       "    }\n",
       "</style>\n",
       "<table border=\"1\" class=\"dataframe\">\n",
       "  <thead>\n",
       "    <tr style=\"text-align: right;\">\n",
       "      <th></th>\n",
       "      <th>Vendor</th>\n",
       "      <th>SKU</th>\n",
       "      <th>Preferred_Name</th>\n",
       "    </tr>\n",
       "  </thead>\n",
       "  <tbody>\n",
       "    <tr>\n",
       "      <td>0</td>\n",
       "      <td>Abcam</td>\n",
       "      <td>AB102672</td>\n",
       "      <td>Q9H244</td>\n",
       "    </tr>\n",
       "    <tr>\n",
       "      <td>1</td>\n",
       "      <td>Abcam</td>\n",
       "      <td>AB102672</td>\n",
       "      <td>Q9CPV9</td>\n",
       "    </tr>\n",
       "    <tr>\n",
       "      <td>2</td>\n",
       "      <td>Abcam</td>\n",
       "      <td>AB102672</td>\n",
       "      <td>Q9EPX4</td>\n",
       "    </tr>\n",
       "  </tbody>\n",
       "</table>\n",
       "</div>"
      ],
      "text/plain": [
       "  Vendor       SKU Preferred_Name\n",
       "0  Abcam  AB102672         Q9H244\n",
       "1  Abcam  AB102672         Q9CPV9\n",
       "2  Abcam  AB102672         Q9EPX4"
      ]
     },
     "execution_count": 4,
     "metadata": {},
     "output_type": "execute_result"
    }
   ],
   "source": [
    "anti2prot_df = pd.read_csv(path+\"Epitopes_mapping.csv\", sep=\"\\t\")\n",
    "anti2prot_df.head(3)"
   ]
  },
  {
   "cell_type": "code",
   "execution_count": 5,
   "metadata": {},
   "outputs": [
    {
     "data": {
      "text/plain": [
       "1433"
      ]
     },
     "execution_count": 5,
     "metadata": {},
     "output_type": "execute_result"
    }
   ],
   "source": [
    "anti2prot_df.shape[0]"
   ]
  },
  {
   "cell_type": "code",
   "execution_count": 6,
   "metadata": {},
   "outputs": [],
   "source": [
    "anti2prot_df.loc[:,\"Preferred_Name\"].to_csv(path+\"prot_ids.txt\", sep=\" \", index=False, header=False)"
   ]
  },
  {
   "cell_type": "markdown",
   "metadata": {},
   "source": [
    "For instance, the first row shows the anitibody with SKU=AB102672 and Vendor=Abcam targets the protein with the name=Q9H244 "
   ]
  },
  {
   "cell_type": "markdown",
   "metadata": {},
   "source": [
    "## Method"
   ]
  },
  {
   "cell_type": "markdown",
   "metadata": {},
   "source": [
    "1- I get the list of protein target UniProt IDs from the mapping file (i.e., the Preferred_name column) and save them to a file (e.g., prot_ids.txt). In Uniprot | retrieve/mapping, I set from UniprotKB_ID to Gene name and upload prot_ids.txt, then I download the mapping file to <span style=\"color:DarkGoldenRod\">prot2gene.csv</span>."
   ]
  },
  {
   "cell_type": "code",
   "execution_count": 7,
   "metadata": {},
   "outputs": [
    {
     "data": {
      "text/html": [
       "<div>\n",
       "<style scoped>\n",
       "    .dataframe tbody tr th:only-of-type {\n",
       "        vertical-align: middle;\n",
       "    }\n",
       "\n",
       "    .dataframe tbody tr th {\n",
       "        vertical-align: top;\n",
       "    }\n",
       "\n",
       "    .dataframe thead th {\n",
       "        text-align: right;\n",
       "    }\n",
       "</style>\n",
       "<table border=\"1\" class=\"dataframe\">\n",
       "  <thead>\n",
       "    <tr style=\"text-align: right;\">\n",
       "      <th></th>\n",
       "      <th>From</th>\n",
       "      <th>To</th>\n",
       "    </tr>\n",
       "  </thead>\n",
       "  <tbody>\n",
       "    <tr>\n",
       "      <td>0</td>\n",
       "      <td>Q9H244</td>\n",
       "      <td>P2RY12</td>\n",
       "    </tr>\n",
       "    <tr>\n",
       "      <td>1</td>\n",
       "      <td>Q9CPV9</td>\n",
       "      <td>P2ry12</td>\n",
       "    </tr>\n",
       "    <tr>\n",
       "      <td>2</td>\n",
       "      <td>Q9EPX4</td>\n",
       "      <td>P2ry12</td>\n",
       "    </tr>\n",
       "  </tbody>\n",
       "</table>\n",
       "</div>"
      ],
      "text/plain": [
       "     From      To\n",
       "0  Q9H244  P2RY12\n",
       "1  Q9CPV9  P2ry12\n",
       "2  Q9EPX4  P2ry12"
      ]
     },
     "execution_count": 7,
     "metadata": {},
     "output_type": "execute_result"
    }
   ],
   "source": [
    "prot2gene_df = pd.read_csv(path+\"prot2gene.csv\", sep=\"\\t\")\n",
    "prot2gene_df.head(3)"
   ]
  },
  {
   "cell_type": "markdown",
   "metadata": {},
   "source": [
    "Now, I make gene names consistant (i.e., convert all gene names to lower case)"
   ]
  },
  {
   "cell_type": "code",
   "execution_count": 8,
   "metadata": {},
   "outputs": [
    {
     "data": {
      "text/html": [
       "<div>\n",
       "<style scoped>\n",
       "    .dataframe tbody tr th:only-of-type {\n",
       "        vertical-align: middle;\n",
       "    }\n",
       "\n",
       "    .dataframe tbody tr th {\n",
       "        vertical-align: top;\n",
       "    }\n",
       "\n",
       "    .dataframe thead th {\n",
       "        text-align: right;\n",
       "    }\n",
       "</style>\n",
       "<table border=\"1\" class=\"dataframe\">\n",
       "  <thead>\n",
       "    <tr style=\"text-align: right;\">\n",
       "      <th></th>\n",
       "      <th>From</th>\n",
       "      <th>To</th>\n",
       "    </tr>\n",
       "  </thead>\n",
       "  <tbody>\n",
       "    <tr>\n",
       "      <td>0</td>\n",
       "      <td>Q9H244</td>\n",
       "      <td>p2ry12</td>\n",
       "    </tr>\n",
       "    <tr>\n",
       "      <td>1</td>\n",
       "      <td>Q9CPV9</td>\n",
       "      <td>p2ry12</td>\n",
       "    </tr>\n",
       "    <tr>\n",
       "      <td>2</td>\n",
       "      <td>Q9EPX4</td>\n",
       "      <td>p2ry12</td>\n",
       "    </tr>\n",
       "  </tbody>\n",
       "</table>\n",
       "</div>"
      ],
      "text/plain": [
       "     From      To\n",
       "0  Q9H244  p2ry12\n",
       "1  Q9CPV9  p2ry12\n",
       "2  Q9EPX4  p2ry12"
      ]
     },
     "execution_count": 8,
     "metadata": {},
     "output_type": "execute_result"
    }
   ],
   "source": [
    "prot2gene_df.To = prot2gene_df.To.apply(lambda x: x.lower())\n",
    "prot2gene_df.head(3)"
   ]
  },
  {
   "cell_type": "markdown",
   "metadata": {},
   "source": [
    "2- I retrieve the gene names from <span style=\"color:DarkGoldenRod\">prot2gene.csv</span> and save them into a file (e.g., gene_names.txt). In UniProt | retrieve/mapping, I set from Gene name to UniprotKB_ID in Any Organism, and upload gene_names.txt, then I download the result (FASTA format) for five popular organisms, separately:\n",
    "- <span style=\"color:DarkGoldenRod\">uniprot_human.fasta</span>\n",
    "- <span style=\"color:DarkGoldenRod\">uniprot_mouse.fasta</span>\n",
    "- <span style=\"color:DarkGoldenRod\">uniprot_rat.fasta</span>\n",
    "- <span style=\"color:DarkGoldenRod\">uniprot_zebraf.fasta</span>\n",
    "- <span style=\"color:DarkGoldenRod\">uniprot_bovine.fasta</span>"
   ]
  },
  {
   "cell_type": "markdown",
   "metadata": {},
   "source": [
    "3- Now, I do the following steps to find antibodies cross creativity, then save them into the result file (i.e., <span style=\"color:DarkGoldenRod\">CR_table.csv</span>):\n",
    "    1. For each antibody in EpitopeTable:\n",
    "        - Retrieve epitope sequence (Immunogen column) for the antibody\n",
    "        - For each fasta sequence:\n",
    "            - Extract its UniProt_ID and gene name\n",
    "            - Check if a protein target of this antibody is related to the same gene name as the current fasta\n",
    "              sequence. In this case, find the score of local alignment of epitope sequence and fasta sequence.\n",
    "    2. Sort scores group by antibody\n",
    "    3. Normalize scores (min-max method) group by antibody"
   ]
  },
  {
   "cell_type": "code",
   "execution_count": 9,
   "metadata": {},
   "outputs": [],
   "source": [
    "# This function extract uniprot_id which is between the first two pipes in fasta.id\n",
    "#\n",
    "def findUniProtID (text):\n",
    "    p1 = text.find('|')\n",
    "    p2 = text[p1+1:].find('|')\n",
    "    if p2==-1:\n",
    "        return text[p1+1:]\n",
    "    else:\n",
    "        return text[p1+1:p1+p2+1]\n",
    "\n",
    "# This function extract gene_name which is after 'GN=' in fasta.description\n",
    "#\n",
    "def findGeneName (text):\n",
    "    p1 = text.find('GN=')\n",
    "    p2 = text[p1+3:].find(' ')\n",
    "    if p2==-1:\n",
    "        return text[p1+3:]\n",
    "    else:\n",
    "        return text[p1+3:p1+p2+3]\n",
    "\n",
    "# construct cr dataframe\n",
    "# compare each epitope sequence with the same protein sequences from 5 organisms\n",
    "#\n",
    "organisms = ['Human', 'Mouse', 'Rat', 'Zebrafish', 'Bovine']\n",
    "fasta_fnames = ['uniprot_human.fasta','uniprot_mouse.fasta','uniprot_rat.fasta','uniprot_zebraf.fasta','uniprot_bovine.fasta']\n",
    "epitopes = anti_df.Immunogen\n",
    "ei_list = range(len(epitopes))\n",
    "oi_list = range(len(organisms))\n",
    "cr_df = pd.DataFrame(columns=['Vendor', 'SKU', 'Preferred_Name', 'Name', 'Organism', 'Align_Score'])\n",
    "cr_count=0\n",
    "for oi in oi_list:\n",
    "    for ei in ei_list:\n",
    "        ev = epitopes[ei]\n",
    "        if ev==ev: # True, if ev is not null\n",
    "\n",
    "            # retrieve protein targets of the antibody related to this epitope\n",
    "            e_prot_list = []\n",
    "            e_prot_list = anti2prot_df[anti2prot_df.SKU==anti_df.SKU[ei]].Preferred_Name.tolist()\n",
    "\n",
    "            fasta_sequences = SeqIO.parse(open(path+fasta_fnames[oi]),'fasta')\n",
    "            for fasta in fasta_sequences:\n",
    "                sequence = str(fasta.seq)\n",
    "                uni_id = findUniProtID(fasta.id)\n",
    "                gn = findGeneName(fasta.description)\n",
    "\n",
    "                # retrieve proteins related to the gene name:gn\n",
    "                g_prot_list = []\n",
    "                g_prot_list = prot2gene_df[prot2gene_df.To==gn.lower()].From.tolist()\n",
    "\n",
    "                # Check if a protein target of this antibody is the same as the current fasta protein in the fasta organism, i.e.,\n",
    "                # Check if a protein target of this antibody is related to the same gene name as the current fasta sequence\n",
    "                if list(set(e_prot_list) & set(g_prot_list)):\n",
    "\n",
    "                    # Check if the current fasta protein is not in the antibody's target protein list\n",
    "                    # (if it is, it means we already have that fasta protein in Epitopes_mapping.txt for the antibody,\n",
    "                    # i.e., they are from the same organism, so we do not need alignment/prediction).\n",
    "                    if not (uni_id in anti2prot_df[anti2prot_df.SKU == anti_df.SKU[ei]].Preferred_Name.tolist()):\n",
    "                        score = pairwise2.align.localxx(ev, sequence,score_only=True)\n",
    "                        cr_df.loc[cr_count] = [anti_df.Vendor[ei], anti_df.SKU[ei], uni_id, gn, organisms[oi], score]\n",
    "                        cr_count = cr_count + 1\n",
    "\n",
    "# sort scores groupby antibodies\n",
    "#\n",
    "cr_df.sort_values(['Vendor', 'SKU', 'Align_Score'], ascending=[True, True, False], inplace=True)\n",
    "\n",
    "# normalize scores groupby antibodies\n",
    "#\n",
    "cr_df['Align_Score_norm'] = cr_df.groupby('SKU')['Align_Score'].apply(lambda x: (x-x.min())/(x.max()-x.min()))\n",
    "cr_df['Align_Score_norm'] = cr_df['Align_Score_norm'].round(2)\n",
    "\n",
    "# save the result\n",
    "#\n",
    "cr_df.to_csv(path+\"CR_table.csv\", index=None)"
   ]
  },
  {
   "cell_type": "code",
   "execution_count": 10,
   "metadata": {},
   "outputs": [
    {
     "data": {
      "text/html": [
       "<div>\n",
       "<style scoped>\n",
       "    .dataframe tbody tr th:only-of-type {\n",
       "        vertical-align: middle;\n",
       "    }\n",
       "\n",
       "    .dataframe tbody tr th {\n",
       "        vertical-align: top;\n",
       "    }\n",
       "\n",
       "    .dataframe thead th {\n",
       "        text-align: right;\n",
       "    }\n",
       "</style>\n",
       "<table border=\"1\" class=\"dataframe\">\n",
       "  <thead>\n",
       "    <tr style=\"text-align: right;\">\n",
       "      <th></th>\n",
       "      <th>Vendor</th>\n",
       "      <th>SKU</th>\n",
       "      <th>Preferred_Name</th>\n",
       "      <th>Name</th>\n",
       "      <th>Organism</th>\n",
       "      <th>Align_Score</th>\n",
       "      <th>Align_Score_norm</th>\n",
       "    </tr>\n",
       "  </thead>\n",
       "  <tbody>\n",
       "    <tr>\n",
       "      <td>43</td>\n",
       "      <td>Abcam</td>\n",
       "      <td>AB102672</td>\n",
       "      <td>A0A2H4P6E7</td>\n",
       "      <td>P2RY12</td>\n",
       "      <td>Human</td>\n",
       "      <td>100.0</td>\n",
       "      <td>1.00</td>\n",
       "    </tr>\n",
       "    <tr>\n",
       "      <td>213</td>\n",
       "      <td>Abcam</td>\n",
       "      <td>AB102672</td>\n",
       "      <td>Q546L4</td>\n",
       "      <td>P2ry12</td>\n",
       "      <td>Mouse</td>\n",
       "      <td>92.0</td>\n",
       "      <td>0.76</td>\n",
       "    </tr>\n",
       "    <tr>\n",
       "      <td>214</td>\n",
       "      <td>Abcam</td>\n",
       "      <td>AB102672</td>\n",
       "      <td>Q8BZV8</td>\n",
       "      <td>P2ry12</td>\n",
       "      <td>Mouse</td>\n",
       "      <td>92.0</td>\n",
       "      <td>0.76</td>\n",
       "    </tr>\n",
       "    <tr>\n",
       "      <td>505</td>\n",
       "      <td>Abcam</td>\n",
       "      <td>AB102672</td>\n",
       "      <td>Q0IIL0</td>\n",
       "      <td>P2RY12</td>\n",
       "      <td>Bovine</td>\n",
       "      <td>91.0</td>\n",
       "      <td>0.74</td>\n",
       "    </tr>\n",
       "    <tr>\n",
       "      <td>212</td>\n",
       "      <td>Abcam</td>\n",
       "      <td>AB102672</td>\n",
       "      <td>A0A0G2JGU7</td>\n",
       "      <td>P2ry12</td>\n",
       "      <td>Mouse</td>\n",
       "      <td>90.0</td>\n",
       "      <td>0.71</td>\n",
       "    </tr>\n",
       "  </tbody>\n",
       "</table>\n",
       "</div>"
      ],
      "text/plain": [
       "    Vendor       SKU Preferred_Name    Name Organism  Align_Score  \\\n",
       "43   Abcam  AB102672     A0A2H4P6E7  P2RY12    Human        100.0   \n",
       "213  Abcam  AB102672         Q546L4  P2ry12    Mouse         92.0   \n",
       "214  Abcam  AB102672         Q8BZV8  P2ry12    Mouse         92.0   \n",
       "505  Abcam  AB102672         Q0IIL0  P2RY12   Bovine         91.0   \n",
       "212  Abcam  AB102672     A0A0G2JGU7  P2ry12    Mouse         90.0   \n",
       "\n",
       "     Align_Score_norm  \n",
       "43               1.00  \n",
       "213              0.76  \n",
       "214              0.76  \n",
       "505              0.74  \n",
       "212              0.71  "
      ]
     },
     "execution_count": 10,
     "metadata": {},
     "output_type": "execute_result"
    }
   ],
   "source": [
    "cr_df.head()"
   ]
  },
  {
   "cell_type": "code",
   "execution_count": 11,
   "metadata": {},
   "outputs": [
    {
     "data": {
      "text/plain": [
       "631"
      ]
     },
     "execution_count": 11,
     "metadata": {},
     "output_type": "execute_result"
    }
   ],
   "source": [
    "cr_df.shape[0]"
   ]
  },
  {
   "cell_type": "markdown",
   "metadata": {},
   "source": [
    "## Visualization\n",
    "It is good to display the data in a way that help the users gain insight into the product they would like to purchase. For instanse, suppose a user would like to purchase a product (antibody) which is sold by Vendor=Abcam with SKU=AB102672. The following barchart helps the user to see the probability of the product to react with homologous proteins from different species."
   ]
  },
  {
   "cell_type": "code",
   "execution_count": 12,
   "metadata": {},
   "outputs": [
    {
     "data": {
      "image/png": "[encoded data removed]",
      "text/plain": [
       "<Figure size 432x288 with 1 Axes>"
      ]
     },
     "metadata": {
      "needs_background": "light"
     },
     "output_type": "display_data"
    }
   ],
   "source": [
    "colors = {'Human':'tomato', 'Mouse':'yellowgreen', 'Rat':'green', 'Zebrafish':'orange', 'Bovine':'gold'}\n",
    "\n",
    "viz_df = cr_df[cr_df['SKU']=='AB102672'].sort_values(['Organism'])\n",
    "viz_df['Color'] = viz_df['Organism'].apply(lambda x: colors[x])\n",
    "\n",
    "plt.bar(x = viz_df['Preferred_Name'], height = viz_df['Align_Score_norm'], color = viz_df['Color'])\n",
    "plt.title('Proteins vs Scores for Product with SKU=AB102672 and Vendor=Abcam')\n",
    "plt.xlabel('Protein')\n",
    "plt.ylabel('Score')\n",
    "plt.xticks(rotation=90)\n",
    "handles = []\n",
    "for i,j in colors.items():\n",
    "    handles.append(mpatches.Patch(label=i, color=j))\n",
    "plt.legend(handles = handles, bbox_to_anchor=(1.1,1))\n",
    "plt.show()"
   ]
  }
 ],
 "metadata": {
  "kernelspec": {
   "display_name": "Python 3",
   "language": "python",
   "name": "python3"
  },
  "language_info": {
   "codemirror_mode": {
    "name": "ipython",
    "version": 3
   },
   "file_extension": ".py",
   "mimetype": "text/x-python",
   "name": "python",
   "nbconvert_exporter": "python",
   "pygments_lexer": "ipython3",
   "version": "3.7.4"
  }
 },
 "nbformat": 4,
 "nbformat_minor": 2
}
